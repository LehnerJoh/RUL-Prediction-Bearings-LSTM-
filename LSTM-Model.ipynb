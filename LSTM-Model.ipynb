{
 "cells": [
  {
   "attachments": {},
   "cell_type": "markdown",
   "metadata": {},
   "source": [
    "# Projekt - Machine Learing in Manufacturing"
   ]
  },
  {
   "attachments": {},
   "cell_type": "markdown",
   "metadata": {},
   "source": [
    "#### Dozent: Felix Müller"
   ]
  },
  {
   "attachments": {},
   "cell_type": "markdown",
   "metadata": {},
   "source": [
    "#### Programmierer: Simon Koeller, Johannes Lehner, Hans-Joachim Redeker"
   ]
  },
  {
   "attachments": {},
   "cell_type": "markdown",
   "metadata": {},
   "source": [
    "## Projektthema: Verschleißvorhersage von Kugellager mit Hilfe von KI-Algorithmen auf Basis von mehreren Datensätzen"
   ]
  },
  {
   "attachments": {},
   "cell_type": "markdown",
   "metadata": {},
   "source": [
    "#### Bei den Datensätzen handelt es sich um Daten, die mit Hilfe von Beschleunigung-Sensoren erfasst werden, welche horizontal und vertikal an den untersuchten Kugellagern angebracht sind. \n",
    "\n",
    "#### Die Daten werden mit einer Abtrastfrequenz von 25,6 kHz erfasst.\n",
    "\n",
    "\n",
    "\n"
   ]
  },
  {
   "attachments": {},
   "cell_type": "markdown",
   "metadata": {},
   "source": [
    "##### Der Lösungsansatz ist modular aufgebaut und beinhaltet Modul 1 Data Preperation, Modul 2 Models und Modul 3 Visualization"
   ]
  },
  {
   "attachments": {},
   "cell_type": "markdown",
   "metadata": {},
   "source": [
    "## Modul 2: Models"
   ]
  },
  {
   "attachments": {},
   "cell_type": "markdown",
   "metadata": {},
   "source": [
    "# LSTM for predicting Remain Useful Lifetime"
   ]
  },
  {
   "attachments": {},
   "cell_type": "markdown",
   "metadata": {},
   "source": [
    "##### https://github.com/archd3sai/Predictive-Maintenance-of-Aircraft-Engine/blob/master/RUL%20Prediction%20Regression/LSTM%20RUL%20Prediction.ipynb\n"
   ]
  },
  {
   "attachments": {},
   "cell_type": "markdown",
   "metadata": {},
   "source": [
    "### 1. Schritt: Import der Libraries "
   ]
  },
  {
   "cell_type": "code",
   "execution_count": 1,
   "metadata": {},
   "outputs": [],
   "source": [
    "# import libraries for the final data preprocessing\n",
    "import numpy as np\n",
    "import pandas as pd\n",
    "from sklearn.preprocessing import MinMaxScaler\n",
    "import os\n",
    "\n",
    "#import libraries for the model\n",
    "import keras\n",
    "import keras.backend as k\n",
    "from keras.models import Sequential\n",
    "from keras.layers import Dense, LSTM, Activation, Masking, Dropout\n",
    "from keras.optimizers import RMSprop,adam\n",
    "from keras.callbacks import History\n",
    "from keras import callbacks\n",
    "\n",
    "#import libraries for the data visualization\n",
    "import matplotlib.pyplot as plt\n",
    "import seaborn as sns\n",
    "plt.style.use('fivethirtyeight')\n",
    "%matplotlib inline"
   ]
  },
  {
   "attachments": {},
   "cell_type": "markdown",
   "metadata": {},
   "source": [
    "### 2. Schritt: Import der aus Modul 1 DataPeperation exportierten Datensätze\n"
   ]
  },
  {
   "cell_type": "code",
   "execution_count": null,
   "metadata": {},
   "outputs": [],
   "source": [
    "# Import of the train and test data\n",
    "\n",
    "INPUT_BASE_PATH = r\"C:\\Users\\Johannes\\Desktop\\Masterstudium\\MLinMF\\Bearings_pkl\"\n",
    "\n",
    "#Learning Set\n",
    "PICKLE_BEARING1_1_PATH = os.path.join(INPUT_BASE_PATH, \"extracted_Bearing1_1_Index_100_mini.pkl\")\n",
    "PICKLE_BEARING1_2_PATH = os.path.join(INPUT_BASE_PATH, \"extracted_Bearing1_2_Index_100_mini.pkl\")\n",
    "PICKLE_BEARING2_1_PATH = os.path.join(INPUT_BASE_PATH, \"extracted_bearing2_1_Index_100_mini.pkl\")\n",
    "PICKLE_BEARING2_2_PATH = os.path.join(INPUT_BASE_PATH, \"extracted_Bearing2_2_Index_100_mini.pkl\")\n",
    "PICKLE_BEARING3_1_PATH = os.path.join(INPUT_BASE_PATH, \"extracted_bearing3_1_Index_100_mini.pkl\")\n",
    "PICKLE_BEARING3_2_PATH = os.path.join(INPUT_BASE_PATH, \"extracted_bearing3_2_Index_100_mini.pkl\")\n",
    "\n",
    "#Test Set\n",
    "PICKLE_BEARING1_3_PATH = os.path.join(INPUT_BASE_PATH, \"extracted_Bearing1_3_Index_100_mini.pkl\")\n",
    "PICKLE_BEARING1_4_PATH = os.path.join(INPUT_BASE_PATH, \"extracted_Bearing1_4_Index_100_mini.pkl\")\n",
    "PICKLE_BEARING1_5_PATH = os.path.join(INPUT_BASE_PATH, \"extracted_Bearing1_5_Index_100_mini.pkl\")\n",
    "PICKLE_BEARING1_6_PATH = os.path.join(INPUT_BASE_PATH, \"extracted_Bearing1_6_Index_100_mini.pkl\")\n",
    "#PICKLE_BEARING1_7_PATH = os.path.join(INPUT_BASE_PATH, \"extracted_Bearing1_7_Index_100_mini.pkl\")\n",
    "PICKLE_BEARING2_3_PATH = os.path.join(INPUT_BASE_PATH, \"extracted_Bearing2_3_Index_100_mini.pkl\")\n",
    "#PICKLE_BEARING2_4_PATH = os.path.join(INPUT_BASE_PATH, \"extracted_Bearing2_4_Index_100_mini.pkl\")\n",
    "PICKLE_BEARING2_5_PATH = os.path.join(INPUT_BASE_PATH, \"extracted_Bearing2_5_Index_100_mini.pkl\")\n",
    "PICKLE_BEARING2_6_PATH = os.path.join(INPUT_BASE_PATH, \"extracted_Bearing2_6_Index_100_mini.pkl\")\n",
    "PICKLE_BEARING2_7_PATH = os.path.join(INPUT_BASE_PATH, \"extracted_Bearing2_7_Index_100_mini.pkl\")\n",
    "PICKLE_BEARING3_3_PATH = os.path.join(INPUT_BASE_PATH, \"extracted_bearing3_3_Index_100_mini.pkl\")\n",
    "\n"
   ]
  },
  {
   "cell_type": "code",
   "execution_count": 2,
   "metadata": {},
   "outputs": [],
   "source": [
    "#Train Datasets\n",
    "Bearing_1_1 = pd.read_pickle(PICKLE_BEARING1_1_PATH)\n",
    "Bearing_1_2 = pd.read_pickle(PICKLE_BEARING1_2_PATH)\n",
    "Bearing_2_1 = pd.read_pickle(PICKLE_BEARING2_1_PATH)\n",
    "Bearing_2_2 = pd.read_pickle(PICKLE_BEARING2_2_PATH)\n",
    "Bearing_3_1 = pd.read_pickle(PICKLE_BEARING3_1_PATH)\n",
    "#Bearing_3_2 = pd.read_pickle(PICKLE_BEARING3_2_PATH)\n",
    "\n",
    "#Test Datasets\n",
    "Bearing_1_3 = pd.read_pickle(PICKLE_BEARING1_3_PATH)\n",
    "Bearing_1_4 = pd.read_pickle(PICKLE_BEARING1_4_PATH)\n",
    "Bearing_1_5 = pd.read_pickle(PICKLE_BEARING1_5_PATH)\n",
    "Bearing_1_6 = pd.read_pickle(PICKLE_BEARING1_6_PATH)\n",
    "#Bearing_1_7 = pd.read_pickle(PICKLE_BEARING1_7_PATH)\n",
    "Bearing_2_3 = pd.read_pickle(PICKLE_BEARING2_3_PATH)\n",
    "#Bearing_2_4 = pd.read_pickle(PICKLE_BEARING2_4_PATH)\n",
    "Bearing_2_5 = pd.read_pickle(PICKLE_BEARING2_5_PATH)\n",
    "Bearing_2_6 = pd.read_pickle(PICKLE_BEARING2_6_PATH)\n",
    "Bearing_2_7 = pd.read_pickle(PICKLE_BEARING2_7_PATH)\n",
    "Bearing_3_3 = pd.read_pickle(PICKLE_BEARING3_3_PATH)\n"
   ]
  },
  {
   "attachments": {},
   "cell_type": "markdown",
   "metadata": {},
   "source": [
    "### 3. Schritt: Definition und Vorverarbeitung der Train- und Testdaten"
   ]
  },
  {
   "cell_type": "code",
   "execution_count": null,
   "metadata": {},
   "outputs": [],
   "source": [
    "# sequence_length is the number of time steps that the LSTM-Layer will look back # and is the 3rd dimension of the x_train and x_test data\n",
    "sequence_length = 50 "
   ]
  },
  {
   "cell_type": "code",
   "execution_count": 3,
   "metadata": {},
   "outputs": [],
   "source": [
    "# removes all RUL feautures from the dataset except 'RUL__mean', because they would influence the prediction incorrectly\n",
    "# RUL__mean is the RUL of the compromised bearing RUL__mean = RUL of 100 compromised bearings to have less datasets\n",
    "\n",
    "remove_columns_with_rul = lambda df: df.drop(columns=[col for col in df.columns if 'RUL' in col and col != 'RUL__mean'])\n",
    "\n",
    "Bearing_1_1 = remove_columns_with_rul(Bearing_1_1)\n",
    "Bearing_1_2 = remove_columns_with_rul(Bearing_1_2)\n",
    "Bearing_1_3 = remove_columns_with_rul(Bearing_1_3)\n",
    "Bearing_3_1 = remove_columns_with_rul(Bearing_3_1)\n",
    "Bearing_2_2 = remove_columns_with_rul(Bearing_2_2)\n",
    "Bearing_2_1 = remove_columns_with_rul(Bearing_2_1)\n",
    "Bearing_1_6 = remove_columns_with_rul(Bearing_1_6)\n",
    "Bearing_1_5 = remove_columns_with_rul(Bearing_1_5)\n",
    "Bearing_1_4 = remove_columns_with_rul(Bearing_1_4)\n",
    "Bearing_2_5 = remove_columns_with_rul(Bearing_2_5)\n",
    "Bearing_2_3 = remove_columns_with_rul(Bearing_2_3)\n",
    "Bearing_3_3 = remove_columns_with_rul(Bearing_3_3)\n",
    "Bearing_2_7 = remove_columns_with_rul(Bearing_2_7)\n",
    "Bearing_2_6 = remove_columns_with_rul(Bearing_2_6)"
   ]
  },
  {
   "cell_type": "code",
   "execution_count": 4,
   "metadata": {},
   "outputs": [],
   "source": [
    "# create train and test data\n",
    "train_data = [Bearing_1_1, Bearing_1_2,Bearing_1_6,Bearing_1_5,Bearing_1_4]\n",
    "test_data = [Bearing_1_3]\n",
    "# concatenate train dataframes\n",
    "train_data = pd.concat([data for data in train_data], ignore_index=True)\n",
    "test_data = pd.concat([data for data in test_data], ignore_index=True)\n"
   ]
  },
  {
   "cell_type": "code",
   "execution_count": 8,
   "metadata": {},
   "outputs": [],
   "source": [
    "# split train and test data into x and y sets, where y is the 'RUL__mean' and x are all other features\n",
    "y_train = train_data['RUL__mean']\n",
    "x_train = train_data.drop(columns=['RUL__mean'])\n",
    "y_test = test_data['RUL__mean']\n",
    "x_test = test_data.drop(columns=['RUL__mean'])\n",
    "\n",
    "# scale the data between -1 and 1 to improve the model performance\n",
    "min_max_scaler = MinMaxScaler(feature_range=(-1, 1))\n",
    "\n",
    "x_train = min_max_scaler.fit_transform(x_train)\n",
    "x_test = min_max_scaler.fit_transform(x_test)\n",
    "\n",
    "y_train = min_max_scaler.fit_transform(y_train.values.reshape(-1,1))\n",
    "y_test = min_max_scaler.fit_transform(y_test.values.reshape(-1,1))\t"
   ]
  },
  {
   "cell_type": "code",
   "execution_count": 10,
   "metadata": {},
   "outputs": [],
   "source": [
    "#LSTM needs 3d array as an input \n",
    "# this function creates a 3D array out of a 2D array with a given sequence length of x_train and x_test\n",
    "def generate_3d_array(df, sequence_length):\n",
    "    num_rows = df.shape[0]\n",
    "    num_cols = df.shape[1]\n",
    "    num_sequences = num_rows - sequence_length + 1\n",
    "\n",
    "    # Initialize the 3D array\n",
    "    lstm_array_3d = np.zeros((num_sequences, sequence_length, num_cols))\n",
    "\n",
    "    for i in range(num_sequences):\n",
    "        sequence = df.iloc[i:i+sequence_length, :].values\n",
    "        lstm_array_3d[i, :, :] = sequence\n",
    "\n",
    "    return lstm_array_3d"
   ]
  },
  {
   "cell_type": "code",
   "execution_count": 13,
   "metadata": {},
   "outputs": [
    {
     "data": {
      "text/plain": [
       "(241029, 50, 39)"
      ]
     },
     "execution_count": 13,
     "metadata": {},
     "output_type": "execute_result"
    }
   ],
   "source": [
    "# convert numpy arrays to pandas dataframes\n",
    "x_train = pd.DataFrame(x_train)\n",
    "# create 3D array for LSTM out of x_train and safe it as x_train_lstm\n",
    "x_train_lstm=generate_3d_array(x_train, sequence_length)\n",
    "x_train_lstm.shape"
   ]
  },
  {
   "cell_type": "code",
   "execution_count": 15,
   "metadata": {},
   "outputs": [],
   "source": [
    "# create 3D array for LSTM out of y_train safe it as y_train_lstm\n",
    "y_train_lstm = np.expand_dims(y_train, axis=-1)\n"
   ]
  },
  {
   "cell_type": "code",
   "execution_count": 16,
   "metadata": {},
   "outputs": [
    {
     "data": {
      "text/plain": [
       "(241029, 1, 1)"
      ]
     },
     "execution_count": 16,
     "metadata": {},
     "output_type": "execute_result"
    }
   ],
   "source": [
    "# dummy who gives the number of rows that have to be cut from y_train_lstm to fit the shape of x_train_lstm\n",
    "cut_dummy_train = y_train_lstm.shape[0] - x_train_lstm.shape[0]\n",
    "# cut the last rows of y_train_lstm to fit the shape of x_train_lstm\n",
    "y_train_lstm = y_train_lstm[cut_dummy_train:,:]\n",
    "y_train_lstm.shape"
   ]
  },
  {
   "cell_type": "code",
   "execution_count": 17,
   "metadata": {},
   "outputs": [
    {
     "data": {
      "text/plain": [
       "(46083, 50, 39)"
      ]
     },
     "execution_count": 17,
     "metadata": {},
     "output_type": "execute_result"
    }
   ],
   "source": [
    "# convert numpy arrays to pandas dataframes\n",
    "x_test = pd.DataFrame(x_test)\n",
    "# create 3D array for LSTM out of x_test and safe it as x_test_lstm\n",
    "x_test_lstm=generate_3d_array(x_test, sequence_length)\n",
    "\n",
    "x_test_lstm.shape"
   ]
  },
  {
   "cell_type": "code",
   "execution_count": 18,
   "metadata": {},
   "outputs": [
    {
     "data": {
      "text/plain": [
       "(46132, 1, 1)"
      ]
     },
     "execution_count": 18,
     "metadata": {},
     "output_type": "execute_result"
    }
   ],
   "source": [
    "# create 3D array for LSTM out of y_test and safe it as y_test_lstm\n",
    "y_test_lstm = np.expand_dims(y_test, axis=-1)\n",
    "\n",
    "y_test_lstm.shape"
   ]
  },
  {
   "cell_type": "code",
   "execution_count": 19,
   "metadata": {},
   "outputs": [],
   "source": [
    "# dummy who gives the number of rows that have to be cut from y_test_lstm to fit the shape of x_test_lstm\n",
    "cut_dummy_test = y_test_lstm.shape[0] - x_test_lstm.shape[0]\n",
    "#cut the last rows of y_test_lstm to fit y_test the shape of x_test_lstm\n",
    "y_test_lstm = y_test_lstm[cut_dummy_test:,:]\n",
    "y_test_lstm.shape\n",
    "y_test = y_test[cut_dummy_test:,:]"
   ]
  },
  {
   "attachments": {},
   "cell_type": "markdown",
   "metadata": {},
   "source": [
    "### 4. Schritt: Anwendung des LSTM Model"
   ]
  },
  {
   "cell_type": "code",
   "execution_count": 20,
   "metadata": {},
   "outputs": [],
   "source": [
    "# gives the number of features of the x_train_lstm and x_test_lstm\n",
    "count_features = x_train_lstm.shape[2]\n"
   ]
  },
  {
   "cell_type": "code",
   "execution_count": 21,
   "metadata": {},
   "outputs": [
    {
     "name": "stdout",
     "output_type": "stream",
     "text": [
      "Model: \"sequential\"\n",
      "_________________________________________________________________\n",
      " Layer (type)                Output Shape              Param #   \n",
      "=================================================================\n",
      " lstm (LSTM)                 (None, 50, 128)           86016     \n",
      "                                                                 \n",
      " dropout (Dropout)           (None, 50, 128)           0         \n",
      "                                                                 \n",
      " lstm_1 (LSTM)               (None, 128)               131584    \n",
      "                                                                 \n",
      " dense (Dense)               (None, 1)                 129       \n",
      "                                                                 \n",
      " dropout_1 (Dropout)         (None, 1)                 0         \n",
      "                                                                 \n",
      " activation (Activation)     (None, 1)                 0         \n",
      "                                                                 \n",
      " dense_1 (Dense)             (None, 128)               256       \n",
      "                                                                 \n",
      " dropout_2 (Dropout)         (None, 128)               0         \n",
      "                                                                 \n",
      " activation_1 (Activation)   (None, 128)               0         \n",
      "                                                                 \n",
      "=================================================================\n",
      "Total params: 217,985\n",
      "Trainable params: 217,985\n",
      "Non-trainable params: 0\n",
      "_________________________________________________________________\n"
     ]
    }
   ],
   "source": [
    "# create the LSTM model\n",
    "\n",
    "# define hsitory to save the loss and mse of the model while training\n",
    "history = History()\n",
    "\n",
    "# define model as a sequential model\n",
    "model = Sequential()\n",
    "\n",
    "# LSTM-Layer with 128 units and a dropout of 0.2 \n",
    "# input_shape is the shape of the x_train_lstm and sequence_length ist variable of look back steps\n",
    "model.add(LSTM(\n",
    "         units=128,\n",
    "         return_sequences=True,\n",
    "         input_shape=(sequence_length, count_features)))\n",
    "model.add(Dropout(0.2))\n",
    "\n",
    "# LSTM-Layer with 128 units and a dropout of 0.2 \n",
    "model.add(LSTM(\n",
    "          units=128,\n",
    "          return_sequences=False))\n",
    "\n",
    "# Dense-Layer with 1 unit and a linear activation function to predict the RUL\n",
    "model.add(Dense(units=1, activation='linear'))\n",
    "model.add(Dropout(0.2))\n",
    "model.add(Activation(\"linear\"))\n",
    "\n",
    "# Dense-Layer with 128 units and a tanh activation function for feature extraction\n",
    "model.add(Dense(units=128, activation='tanh'))\n",
    "model.add(Dropout(0.2))\n",
    "model.add(Activation(\"tanh\"))\n",
    "\n",
    "# compile the modell with the given parameters\n",
    "model.compile(loss=\"mse\", optimizer=\"rmsprop\", metrics=['mse'],)\n",
    "\n",
    "# get a summary of the model\n",
    "model.summary()"
   ]
  },
  {
   "cell_type": "code",
   "execution_count": 22,
   "metadata": {},
   "outputs": [
    {
     "name": "stdout",
     "output_type": "stream",
     "text": [
      "Epoch 1/7\n",
      "6779/6779 [==============================] - 396s 58ms/step - loss: 0.1684 - mse: 0.1684 - val_loss: 0.1756 - val_mse: 0.1756\n",
      "Epoch 2/7\n",
      "6779/6779 [==============================] - 384s 57ms/step - loss: 0.1488 - mse: 0.1488 - val_loss: 0.1229 - val_mse: 0.1229\n",
      "Epoch 3/7\n",
      "6779/6779 [==============================] - 395s 58ms/step - loss: 0.1468 - mse: 0.1468 - val_loss: 0.3849 - val_mse: 0.3849\n",
      "Epoch 4/7\n",
      "6779/6779 [==============================] - 400s 59ms/step - loss: 0.1492 - mse: 0.1492 - val_loss: 0.2174 - val_mse: 0.2174\n",
      "Epoch 5/7\n",
      "6779/6779 [==============================] - 402s 59ms/step - loss: 0.1380 - mse: 0.1380 - val_loss: 0.0639 - val_mse: 0.0639\n",
      "Epoch 6/7\n",
      "6779/6779 [==============================] - 402s 59ms/step - loss: 0.1340 - mse: 0.1340 - val_loss: 0.2648 - val_mse: 0.2648\n",
      "Epoch 7/7\n",
      "6779/6779 [==============================] - 399s 59ms/step - loss: 0.1237 - mse: 0.1237 - val_loss: 0.1328 - val_mse: 0.1328\n",
      "CPU times: total: 6h 4min 35s\n",
      "Wall time: 46min 19s\n"
     ]
    },
    {
     "data": {
      "text/plain": [
       "<keras.callbacks.History at 0x28e14b6f0d0>"
      ]
     },
     "execution_count": 22,
     "metadata": {},
     "output_type": "execute_result"
    }
   ],
   "source": [
    "#gives the time the model needs to train pro epoch\n",
    "%%time\n",
    "# fit the model\n",
    "# train the model with the data x_train_lstm and y_train_lstm for 7 epochs and a batch size of 32 and a validation split of 0.1\n",
    "# dass Training wird vorzeitig beendet, wenn der val_loss nicht mehr verbessert wird.\n",
    "model.fit(x_train_lstm, y_train_lstm, epochs=7, batch_size=32, validation_split=0.1, verbose=1,\n",
    "          callbacks = [history, keras.callbacks.EarlyStopping(monitor='val_loss', min_delta=0, patience=10, verbose=0, mode='auto')])"
   ]
  },
  {
   "cell_type": "code",
   "execution_count": 24,
   "metadata": {},
   "outputs": [
    {
     "data": {
      "image/png": "[encoded data removed]",
      "text/plain": [
       "<Figure size 640x480 with 1 Axes>"
      ]
     },
     "metadata": {},
     "output_type": "display_data"
    }
   ],
   "source": [
    "# plot a graph of loss mse and val_mse of the model\n",
    "plt.plot(history.history['mse'])\n",
    "plt.plot(history.history['val_mse'])\n",
    "plt.title('MSE')\n",
    "plt.ylabel('Mean Squared Error')\n",
    "plt.xlabel('# Epoch')\n",
    "plt.legend(['train', 'test'], loc='upper left')\n",
    "plt.show()"
   ]
  },
  {
   "attachments": {},
   "cell_type": "markdown",
   "metadata": {},
   "source": [
    "## Evaluation of the LSTM Model"
   ]
  },
  {
   "cell_type": "code",
   "execution_count": 27,
   "metadata": {},
   "outputs": [
    {
     "name": "stdout",
     "output_type": "stream",
     "text": [
      "1441/1441 - 25s - loss: 0.0520 - mse: 0.0520 - 25s/epoch - 17ms/step\n",
      "MSE: 0.052028387784957886\n"
     ]
    }
   ],
   "source": [
    "# test the training model with the test data x_test_lstm and y_test_lstm\n",
    "scores_test = model.evaluate(x_test_lstm, y_test_lstm, verbose=2)\n",
    "# print the mse of the test data\n",
    "print('MSE: {}'.format(scores_test[1]))"
   ]
  },
  {
   "cell_type": "code",
   "execution_count": 28,
   "metadata": {},
   "outputs": [
    {
     "data": {
      "image/png": "[encoded data removed]",
      "text/plain": [
       "<Figure size 1000x500 with 1 Axes>"
      ]
     },
     "metadata": {},
     "output_type": "display_data"
    }
   ],
   "source": [
    "# predict the RUL of the test data\n",
    "y_pred_test = model.predict(x_test_lstm, verbose=0)\n",
    "#plot the predicted RUL and the ground truth RUL to compare them\n",
    "plt.figure(figsize=(10,5))\n",
    "plt.plot(y_pred_test, color='red', label='Prediction')\n",
    "plt.plot(y_test, color='blue', label='Ground Truth')\n",
    "plt.ylabel(\"RUL\")\n",
    "plt.xlabel(\"Unit Number\")\n",
    "\n",
    "plt.show()"
   ]
  },
  {
   "cell_type": "code",
   "execution_count": 29,
   "metadata": {},
   "outputs": [],
   "source": [
    "# scale the predicted RUL and the ground truth RUL back to the original scale\n",
    "y_test_original = min_max_scaler.inverse_transform(y_test)\n",
    "y_pred_test_original = min_max_scaler.inverse_transform(y_pred_test)"
   ]
  },
  {
   "cell_type": "code",
   "execution_count": 30,
   "metadata": {},
   "outputs": [
    {
     "data": {
      "image/png": "[encoded data removed]",
      "text/plain": [
       "<Figure size 1000x500 with 1 Axes>"
      ]
     },
     "metadata": {},
     "output_type": "display_data"
    }
   ],
   "source": [
    "#plot the predicted RUL and the ground truth RUL to compare them with original scale\n",
    "plt.figure(figsize=(10,5))\n",
    "plt.plot(y_pred_test_original, color='red', label='Prediction')\n",
    "plt.plot(y_test_original, color='blue', label='Ground Truth')\n",
    "plt.ylabel(\"RUL\")\n",
    "plt.xlabel(\"Unit Number\")\n",
    "\n",
    "plt.show()"
   ]
  },
  {
   "cell_type": "code",
   "execution_count": 31,
   "metadata": {},
   "outputs": [
    {
     "name": "stdout",
     "output_type": "stream",
     "text": [
      "Root Mean Squared Error (RMSE): 0.2280974570535989\n"
     ]
    }
   ],
   "source": [
    "# calculate and print the RMSE of the predicted RUL and the ground truth RUL\n",
    "squared_diff = np.square(y_pred_test - y_test)\n",
    "\n",
    "mean_squared_diff = np.mean(squared_diff)\n",
    "\n",
    "rmse = np.sqrt(mean_squared_diff)\n",
    "\n",
    "print(\"Root Mean Squared Error (RMSE):\", rmse)"
   ]
  },
  {
   "cell_type": "code",
   "execution_count": 32,
   "metadata": {},
   "outputs": [
    {
     "name": "stdout",
     "output_type": "stream",
     "text": [
      "Mean Absolute Error (MAE): 0.20542498657013628\n"
     ]
    }
   ],
   "source": [
    "# calculate and print the MAE of the predicted RUL and the ground truth RUL\n",
    "absolute_diff = np.abs(y_pred_test - y_test)\n",
    "\n",
    "mae = np.mean(absolute_diff)\n",
    "\n",
    "print(\"Mean Absolute Error (MAE):\", mae)"
   ]
  },
  {
   "cell_type": "code",
   "execution_count": 33,
   "metadata": {},
   "outputs": [
    {
     "name": "stdout",
     "output_type": "stream",
     "text": [
      "Mean Absolute Percentage Error (MAPE): 157.63036096192585\n"
     ]
    }
   ],
   "source": [
    "# calculate and print the MAPE of the predicted RUL and the ground truth RUL\n",
    "absolute_percentage_diff = np.abs((y_pred_test - y_test) / y_test) * 100\n",
    "\n",
    "mape = np.mean(absolute_percentage_diff)\n",
    "\n",
    "print(\"Mean Absolute Percentage Error (MAPE):\", mape)"
   ]
  },
  {
   "cell_type": "code",
   "execution_count": 34,
   "metadata": {},
   "outputs": [],
   "source": [
    "# save the model\n",
    "model.save('LSTM_RUL_prediction_vers5.h5')"
   ]
  },
  {
   "cell_type": "code",
   "execution_count": 35,
   "metadata": {},
   "outputs": [],
   "source": [
    "# safe the predictions in a txt file\n",
    "with open(\"results.txt\", \"w\") as file:\n",
    " \n",
    "    # Write the predictions to the file\n",
    "    file.write(\"\\nPredictions:\\n\")\n",
    "    for i, prediction in enumerate(y_pred_test_original):\n",
    "        file.write(\"Sample {}: {}\\n\".format(i+1,y_pred_test_original))"
   ]
  },
  {
   "cell_type": "code",
   "execution_count": 37,
   "metadata": {},
   "outputs": [],
   "source": [
    "\n",
    "#safe y_pred_test_original as dataframe\n",
    "y_pred_test_original_df = pd.DataFrame(y_pred_test_original)\n",
    "y_pred_test_original_df.to_csv('y_pred_test_original_vers5.csv')"
   ]
  },
  {
   "cell_type": "code",
   "execution_count": 39,
   "metadata": {},
   "outputs": [
    {
     "data": {
      "text/html": [
       "<div>\n",
       "<style scoped>\n",
       "    .dataframe tbody tr th:only-of-type {\n",
       "        vertical-align: middle;\n",
       "    }\n",
       "\n",
       "    .dataframe tbody tr th {\n",
       "        vertical-align: top;\n",
       "    }\n",
       "\n",
       "    .dataframe thead th {\n",
       "        text-align: right;\n",
       "    }\n",
       "</style>\n",
       "<table border=\"1\" class=\"dataframe\">\n",
       "  <thead>\n",
       "    <tr style=\"text-align: right;\">\n",
       "      <th></th>\n",
       "      <th>0</th>\n",
       "      <th>1</th>\n",
       "      <th>2</th>\n",
       "      <th>3</th>\n",
       "      <th>4</th>\n",
       "      <th>5</th>\n",
       "      <th>6</th>\n",
       "      <th>7</th>\n",
       "      <th>8</th>\n",
       "      <th>9</th>\n",
       "      <th>...</th>\n",
       "      <th>118</th>\n",
       "      <th>119</th>\n",
       "      <th>120</th>\n",
       "      <th>121</th>\n",
       "      <th>122</th>\n",
       "      <th>123</th>\n",
       "      <th>124</th>\n",
       "      <th>125</th>\n",
       "      <th>126</th>\n",
       "      <th>127</th>\n",
       "    </tr>\n",
       "  </thead>\n",
       "  <tbody>\n",
       "    <tr>\n",
       "      <th>0</th>\n",
       "      <td>1.177364e+10</td>\n",
       "      <td>1.172242e+10</td>\n",
       "      <td>1.181353e+10</td>\n",
       "      <td>1.171184e+10</td>\n",
       "      <td>1.171025e+10</td>\n",
       "      <td>1.169806e+10</td>\n",
       "      <td>1.170895e+10</td>\n",
       "      <td>1.169313e+10</td>\n",
       "      <td>1.175277e+10</td>\n",
       "      <td>1.167977e+10</td>\n",
       "      <td>...</td>\n",
       "      <td>1.170892e+10</td>\n",
       "      <td>1.175252e+10</td>\n",
       "      <td>1.182865e+10</td>\n",
       "      <td>1.170521e+10</td>\n",
       "      <td>1.171159e+10</td>\n",
       "      <td>1.173665e+10</td>\n",
       "      <td>1.171675e+10</td>\n",
       "      <td>1.173265e+10</td>\n",
       "      <td>1.171782e+10</td>\n",
       "      <td>1.180272e+10</td>\n",
       "    </tr>\n",
       "    <tr>\n",
       "      <th>1</th>\n",
       "      <td>1.177437e+10</td>\n",
       "      <td>1.172315e+10</td>\n",
       "      <td>1.181426e+10</td>\n",
       "      <td>1.171257e+10</td>\n",
       "      <td>1.171098e+10</td>\n",
       "      <td>1.169880e+10</td>\n",
       "      <td>1.170969e+10</td>\n",
       "      <td>1.169387e+10</td>\n",
       "      <td>1.175351e+10</td>\n",
       "      <td>1.168051e+10</td>\n",
       "      <td>...</td>\n",
       "      <td>1.170966e+10</td>\n",
       "      <td>1.175326e+10</td>\n",
       "      <td>1.182938e+10</td>\n",
       "      <td>1.170595e+10</td>\n",
       "      <td>1.171233e+10</td>\n",
       "      <td>1.173739e+10</td>\n",
       "      <td>1.171748e+10</td>\n",
       "      <td>1.173339e+10</td>\n",
       "      <td>1.171856e+10</td>\n",
       "      <td>1.180345e+10</td>\n",
       "    </tr>\n",
       "    <tr>\n",
       "      <th>2</th>\n",
       "      <td>1.177646e+10</td>\n",
       "      <td>1.172523e+10</td>\n",
       "      <td>1.181634e+10</td>\n",
       "      <td>1.171466e+10</td>\n",
       "      <td>1.171306e+10</td>\n",
       "      <td>1.170090e+10</td>\n",
       "      <td>1.171179e+10</td>\n",
       "      <td>1.169597e+10</td>\n",
       "      <td>1.175560e+10</td>\n",
       "      <td>1.168260e+10</td>\n",
       "      <td>...</td>\n",
       "      <td>1.171176e+10</td>\n",
       "      <td>1.175536e+10</td>\n",
       "      <td>1.183146e+10</td>\n",
       "      <td>1.170806e+10</td>\n",
       "      <td>1.171444e+10</td>\n",
       "      <td>1.173948e+10</td>\n",
       "      <td>1.171956e+10</td>\n",
       "      <td>1.173548e+10</td>\n",
       "      <td>1.172065e+10</td>\n",
       "      <td>1.180554e+10</td>\n",
       "    </tr>\n",
       "    <tr>\n",
       "      <th>3</th>\n",
       "      <td>1.178157e+10</td>\n",
       "      <td>1.173035e+10</td>\n",
       "      <td>1.182143e+10</td>\n",
       "      <td>1.171979e+10</td>\n",
       "      <td>1.171818e+10</td>\n",
       "      <td>1.170604e+10</td>\n",
       "      <td>1.171695e+10</td>\n",
       "      <td>1.170112e+10</td>\n",
       "      <td>1.176075e+10</td>\n",
       "      <td>1.168773e+10</td>\n",
       "      <td>...</td>\n",
       "      <td>1.171692e+10</td>\n",
       "      <td>1.176050e+10</td>\n",
       "      <td>1.183655e+10</td>\n",
       "      <td>1.171324e+10</td>\n",
       "      <td>1.171960e+10</td>\n",
       "      <td>1.174461e+10</td>\n",
       "      <td>1.172466e+10</td>\n",
       "      <td>1.174063e+10</td>\n",
       "      <td>1.172580e+10</td>\n",
       "      <td>1.181066e+10</td>\n",
       "    </tr>\n",
       "    <tr>\n",
       "      <th>4</th>\n",
       "      <td>1.178195e+10</td>\n",
       "      <td>1.173073e+10</td>\n",
       "      <td>1.182181e+10</td>\n",
       "      <td>1.172017e+10</td>\n",
       "      <td>1.171855e+10</td>\n",
       "      <td>1.170642e+10</td>\n",
       "      <td>1.171732e+10</td>\n",
       "      <td>1.170150e+10</td>\n",
       "      <td>1.176113e+10</td>\n",
       "      <td>1.168811e+10</td>\n",
       "      <td>...</td>\n",
       "      <td>1.171730e+10</td>\n",
       "      <td>1.176087e+10</td>\n",
       "      <td>1.183692e+10</td>\n",
       "      <td>1.171362e+10</td>\n",
       "      <td>1.171998e+10</td>\n",
       "      <td>1.174498e+10</td>\n",
       "      <td>1.172503e+10</td>\n",
       "      <td>1.174101e+10</td>\n",
       "      <td>1.172617e+10</td>\n",
       "      <td>1.181103e+10</td>\n",
       "    </tr>\n",
       "  </tbody>\n",
       "</table>\n",
       "<p>5 rows × 128 columns</p>\n",
       "</div>"
      ],
      "text/plain": [
       "            0             1             2             3             4    \\\n",
       "0  1.177364e+10  1.172242e+10  1.181353e+10  1.171184e+10  1.171025e+10   \n",
       "1  1.177437e+10  1.172315e+10  1.181426e+10  1.171257e+10  1.171098e+10   \n",
       "2  1.177646e+10  1.172523e+10  1.181634e+10  1.171466e+10  1.171306e+10   \n",
       "3  1.178157e+10  1.173035e+10  1.182143e+10  1.171979e+10  1.171818e+10   \n",
       "4  1.178195e+10  1.173073e+10  1.182181e+10  1.172017e+10  1.171855e+10   \n",
       "\n",
       "            5             6             7             8             9    ...  \\\n",
       "0  1.169806e+10  1.170895e+10  1.169313e+10  1.175277e+10  1.167977e+10  ...   \n",
       "1  1.169880e+10  1.170969e+10  1.169387e+10  1.175351e+10  1.168051e+10  ...   \n",
       "2  1.170090e+10  1.171179e+10  1.169597e+10  1.175560e+10  1.168260e+10  ...   \n",
       "3  1.170604e+10  1.171695e+10  1.170112e+10  1.176075e+10  1.168773e+10  ...   \n",
       "4  1.170642e+10  1.171732e+10  1.170150e+10  1.176113e+10  1.168811e+10  ...   \n",
       "\n",
       "            118           119           120           121           122  \\\n",
       "0  1.170892e+10  1.175252e+10  1.182865e+10  1.170521e+10  1.171159e+10   \n",
       "1  1.170966e+10  1.175326e+10  1.182938e+10  1.170595e+10  1.171233e+10   \n",
       "2  1.171176e+10  1.175536e+10  1.183146e+10  1.170806e+10  1.171444e+10   \n",
       "3  1.171692e+10  1.176050e+10  1.183655e+10  1.171324e+10  1.171960e+10   \n",
       "4  1.171730e+10  1.176087e+10  1.183692e+10  1.171362e+10  1.171998e+10   \n",
       "\n",
       "            123           124           125           126           127  \n",
       "0  1.173665e+10  1.171675e+10  1.173265e+10  1.171782e+10  1.180272e+10  \n",
       "1  1.173739e+10  1.171748e+10  1.173339e+10  1.171856e+10  1.180345e+10  \n",
       "2  1.173948e+10  1.171956e+10  1.173548e+10  1.172065e+10  1.180554e+10  \n",
       "3  1.174461e+10  1.172466e+10  1.174063e+10  1.172580e+10  1.181066e+10  \n",
       "4  1.174498e+10  1.172503e+10  1.174101e+10  1.172617e+10  1.181103e+10  \n",
       "\n",
       "[5 rows x 128 columns]"
      ]
     },
     "execution_count": 39,
     "metadata": {},
     "output_type": "execute_result"
    }
   ],
   "source": [
    "# print the first rows of y_pred_test_original\n",
    "y_pred_test_original_df.head()"
   ]
  }
 ],
 "metadata": {
  "kernelspec": {
   "display_name": "Python 3",
   "language": "python",
   "name": "python3"
  },
  "language_info": {
   "codemirror_mode": {
    "name": "ipython",
    "version": 3
   },
   "file_extension": ".py",
   "mimetype": "text/x-python",
   "name": "python",
   "nbconvert_exporter": "python",
   "pygments_lexer": "ipython3",
   "version": "3.11.2"
  },
  "orig_nbformat": 4
 },
 "nbformat": 4,
 "nbformat_minor": 2
}
